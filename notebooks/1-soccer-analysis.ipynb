{
 "cells": [
  {
   "cell_type": "code",
   "execution_count": null,
   "metadata": {},
   "outputs": [],
   "source": [
    "import soccerdata as sd\n",
    "import socceraction.spadl as spadl"
   ]
  },
  {
   "cell_type": "markdown",
   "metadata": {},
   "source": [
    "# Get the data"
   ]
  },
  {
   "cell_type": "code",
   "execution_count": null,
   "metadata": {},
   "outputs": [],
   "source": [
    "ws = sd.WhoScored(leagues=\"INT-World Cup\", seasons=2018)"
   ]
  },
  {
   "cell_type": "code",
   "execution_count": null,
   "metadata": {},
   "outputs": [],
   "source": [
    "epl_schedule = ws.read_schedule()\n",
    "epl_schedule.head()"
   ]
  },
  {
   "cell_type": "code",
   "execution_count": null,
   "metadata": {},
   "outputs": [],
   "source": [
    "loader = ws.read_events(match_id=1249919, output_fmt=\"loader\")\n",
    "df_games = loader.games(competition_id=\"INT-World Cup\", season_id=\"2018\")"
   ]
  },
  {
   "cell_type": "code",
   "execution_count": null,
   "metadata": {},
   "outputs": [],
   "source": [
    "events = loader.events(game_id=1249919)"
   ]
  },
  {
   "cell_type": "code",
   "execution_count": null,
   "metadata": {},
   "outputs": [],
   "source": [
    "\n",
    "actions = spadl.add_names(events)"
   ]
  },
  {
   "cell_type": "code",
   "execution_count": null,
   "metadata": {},
   "outputs": [],
   "source": [
    "actions.head()"
   ]
  },
  {
   "cell_type": "markdown",
   "metadata": {},
   "source": [
    "# Plot the events"
   ]
  },
  {
   "cell_type": "code",
   "execution_count": null,
   "metadata": {},
   "outputs": [],
   "source": [
    "import matplotsoccer\n",
    "\n",
    "# Select the 5 actions preceding the 2-0\n",
    "shot = 1700\n",
    "a = actions[shot-4:shot+1].copy()\n",
    "\n",
    "# Print the game date and timestamp of the goal\n",
    "# g = game.iloc[0]\n",
    "# minute = int((a.period_id.values[0]-1) * 45 + a.time_seconds.values[0] // 60)\n",
    "# game_info = f\"{g.game_date} {g.home_team_name} {g.home_score}-{g.away_score} {g.away_team_name} {minute + 1}'\"\n",
    "# print(game_info)\n",
    "\n",
    "# Plot the actions\n",
    "def nice_time(row):\n",
    "    minute = int((row.period_id-1)*45 +row.time_seconds // 60)\n",
    "    second = int(row.time_seconds % 60)\n",
    "    return f\"{minute}m{second}s\"\n",
    "\n",
    "a[\"nice_time\"] = a.apply(nice_time, axis=1)\n",
    "labels = a[[\"nice_time\", \"type_name\", \"player\", \"team\"]]\n",
    "\n",
    "ax = matplotsoccer.actions(\n",
    "    location=a[[\"start_x\", \"start_y\", \"end_x\", \"end_y\"]],\n",
    "    action_type=a.type_name,\n",
    "    team= a.team,\n",
    "    result= a.result_name == \"success\",\n",
    "    label=labels,\n",
    "    labeltitle=[\"time\", \"actiontype\", \"player\", \"team\"],\n",
    "    zoom=False,\n",
    "    figsize=6\n",
    ")"
   ]
  },
  {
   "cell_type": "markdown",
   "metadata": {},
   "source": [
    "# Compute Features and Labels"
   ]
  },
  {
   "cell_type": "code",
   "execution_count": null,
   "metadata": {},
   "outputs": [],
   "source": [
    "import os\n",
    "import warnings\n",
    "import tqdm\n",
    "import pandas as pd\n",
    "warnings.simplefilter(action='ignore', category=pd.errors.PerformanceWarning)"
   ]
  },
  {
   "cell_type": "code",
   "execution_count": null,
   "metadata": {},
   "outputs": [],
   "source": [
    "%load_ext autoreload\n",
    "%autoreload 2\n",
    "import socceraction.spadl as spadl\n",
    "import socceraction.vaep.features as fs\n",
    "import socceraction.vaep.labels as lab"
   ]
  },
  {
   "cell_type": "markdown",
   "metadata": {},
   "source": [
    "# Compute features"
   ]
  },
  {
   "cell_type": "code",
   "execution_count": null,
   "metadata": {},
   "outputs": [],
   "source": [
    "# Configure file and folder names\n",
    "datafolder = \"../data\"\n",
    "features_h5 = os.path.join(datafolder, \"features.h5\")\n",
    "labels_h5 = os.path.join(datafolder, \"labels.h5\")"
   ]
  },
  {
   "cell_type": "code",
   "execution_count": null,
   "metadata": {},
   "outputs": [],
   "source": [
    "xfns = [\n",
    "    fs.actiontype,\n",
    "    fs.actiontype_onehot,\n",
    "    fs.bodypart,\n",
    "    fs.bodypart_onehot,\n",
    "    fs.result,\n",
    "    fs.result_onehot,\n",
    "    fs.goalscore,\n",
    "    fs.startlocation,\n",
    "    fs.endlocation,\n",
    "    fs.movement,\n",
    "    fs.space_delta,\n",
    "    fs.startpolar,\n",
    "    fs.endpolar,\n",
    "    fs.team,\n",
    "    fs.time,\n",
    "    fs.time_delta\n",
    "]\n",
    "\n",
    "with pd.HDFStore(features_h5) as featurestore:\n",
    "    gamestates = fs.gamestates(spadl.add_names(actions), 3)\n",
    "    gamestates = fs.play_left_to_right(gamestates, 338)\n",
    "    \n",
    "    X = pd.concat([fn(gamestates) for fn in xfns], axis=1)\n",
    "    featurestore.put(f\"game_1249919\", X, format='table')"
   ]
  },
  {
   "cell_type": "code",
   "execution_count": null,
   "metadata": {},
   "outputs": [],
   "source": [
    "yfns = [lab.scores, lab.concedes, lab.goal_from_shot]\n",
    "\n",
    "with pd.HDFStore(labels_h5) as labelstore:\n",
    "    Y = pd.concat([fn(spadl.add_names(actions)) for fn in yfns], axis=1)\n",
    "    labelstore.put(f\"game_1249919\", Y, format='table')"
   ]
  },
  {
   "cell_type": "markdown",
   "metadata": {},
   "source": [
    "# Train Model"
   ]
  },
  {
   "cell_type": "code",
   "execution_count": null,
   "metadata": {},
   "outputs": [],
   "source": [
    "game_id = 1249919"
   ]
  },
  {
   "cell_type": "code",
   "execution_count": null,
   "metadata": {},
   "outputs": [],
   "source": [
    "# 1. Select feature set X\n",
    "xfns = [\n",
    "    fs.actiontype,\n",
    "    fs.actiontype_onehot,\n",
    "    #fs.bodypart,\n",
    "    fs.bodypart_onehot,\n",
    "    fs.result,\n",
    "    fs.result_onehot,\n",
    "    fs.goalscore,\n",
    "    fs.startlocation,\n",
    "    fs.endlocation,\n",
    "    fs.movement,\n",
    "    fs.space_delta,\n",
    "    fs.startpolar,\n",
    "    fs.endpolar,\n",
    "    fs.team,\n",
    "    #fs.time,\n",
    "    fs.time_delta,\n",
    "    #fs.actiontype_result_onehot\n",
    "]\n",
    "nb_prev_actions = 1\n",
    "\n",
    "Xcols = fs.feature_column_names(xfns, nb_prev_actions)\n",
    "\n",
    "def getXY(game_id, Xcols):\n",
    "    # generate the columns of the selected feature\n",
    "    X = []\n",
    "    for game_id in tqdm.tqdm([game_id], desc=\"Selecting features\"):\n",
    "        Xi = pd.read_hdf(features_h5, f\"game_{game_id}\")\n",
    "        X.append(Xi[Xcols])\n",
    "    X = pd.concat(X).reset_index(drop=True)\n",
    "\n",
    "    # 2. Select label Y\n",
    "    Ycols = [\"scores\",\"concedes\"]\n",
    "    Y = []\n",
    "    for game_id in tqdm.tqdm([game_id], desc=\"Selecting label\"):\n",
    "        Yi = pd.read_hdf(labels_h5, f\"game_{game_id}\")\n",
    "        Y.append(Yi[Ycols])\n",
    "    Y = pd.concat(Y).reset_index(drop=True)\n",
    "    return X, Y\n",
    "\n",
    "X, Y = getXY(game_id, Xcols)\n",
    "print(\"X:\", list(X.columns))\n",
    "print(\"Y:\", list(Y.columns))"
   ]
  },
  {
   "cell_type": "code",
   "execution_count": null,
   "metadata": {},
   "outputs": [],
   "source": [
    "# Train a model\n",
    "# 3. train classifiers F(X) = Y\n",
    "import xgboost\n",
    "\n",
    "Y_hat = pd.DataFrame()\n",
    "models = {}\n",
    "for col in list(Y.columns):\n",
    "    model = xgboost.XGBClassifier(n_estimators=50, max_depth=3, n_jobs=-3, verbosity=1, enable_categorical=True)\n",
    "    model.fit(X, Y[col])\n",
    "    models[col] = model"
   ]
  },
  {
   "cell_type": "markdown",
   "metadata": {},
   "source": [
    "# Evaluate the model"
   ]
  },
  {
   "cell_type": "code",
   "execution_count": null,
   "metadata": {},
   "outputs": [],
   "source": [
    "from sklearn.metrics import brier_score_loss, roc_auc_score, log_loss\n",
    "\n",
    "testX, testY = X, Y\n",
    "\n",
    "def evaluate(y, y_hat):\n",
    "    p = sum(y) / len(y)\n",
    "    base = [p] * len(y)\n",
    "    brier = brier_score_loss(y, y_hat)\n",
    "    print(f\"  Brier score: %.5f (%.5f)\" % (brier, brier / brier_score_loss(y, base)))\n",
    "    ll = log_loss(y, y_hat)\n",
    "    print(f\"  log loss score: %.5f (%.5f)\" % (ll, ll / log_loss(y, base)))\n",
    "    print(f\"  ROC AUC: %.5f\" % roc_auc_score(y, y_hat))\n",
    "\n",
    "for col in testY.columns:\n",
    "    Y_hat[col] = [p[1] for p in models[col].predict_proba(testX)]\n",
    "    print(f\"### Y: {col} ###\")\n",
    "    evaluate(testY[col], Y_hat[col])"
   ]
  },
  {
   "cell_type": "markdown",
   "metadata": {},
   "source": [
    "# Save Predictions"
   ]
  },
  {
   "cell_type": "code",
   "execution_count": null,
   "metadata": {},
   "outputs": [],
   "source": [
    "predictions_h5 = os.path.join(datafolder, \"predictions.h5\")"
   ]
  },
  {
   "cell_type": "code",
   "execution_count": null,
   "metadata": {},
   "outputs": [],
   "source": [
    "# get rows with game id per action\n",
    "A = []\n",
    "for game_id in tqdm.tqdm([game_id], \"Loading game ids\"):\n",
    "    Ai = actions[actions[\"game_id\"] == game_id]\n",
    "    A.append(Ai[[\"game_id\"]])\n",
    "A = pd.concat(A)\n",
    "A = A.reset_index(drop=True)\n",
    "\n",
    "# concatenate action game id rows with predictions and save per game\n",
    "grouped_predictions = pd.concat([A, Y_hat], axis=1).groupby(\"game_id\")\n",
    "with pd.HDFStore(predictions_h5) as predictionstore:\n",
    "    for k, df in tqdm.tqdm(grouped_predictions, desc=\"Saving predictions per game\"):\n",
    "        df = df.reset_index(drop=True)\n",
    "        predictionstore.put(f\"game_{int(k)}\", df[Y_hat.columns])"
   ]
  },
  {
   "cell_type": "code",
   "execution_count": null,
   "metadata": {},
   "outputs": [],
   "source": [
    "players = loader.players(game_id=game_id)\n",
    "teams = loader.teams(game_id=game_id)"
   ]
  },
  {
   "cell_type": "code",
   "execution_count": null,
   "metadata": {},
   "outputs": [],
   "source": [
    "teams"
   ]
  },
  {
   "cell_type": "code",
   "execution_count": null,
   "metadata": {},
   "outputs": [],
   "source": [
    "actions.columns"
   ]
  },
  {
   "cell_type": "markdown",
   "metadata": {},
   "source": [
    "# Computer VAEP Players"
   ]
  },
  {
   "cell_type": "code",
   "execution_count": null,
   "metadata": {},
   "outputs": [],
   "source": [
    "import socceraction.vaep.formula as vaepformula"
   ]
  },
  {
   "cell_type": "code",
   "execution_count": null,
   "metadata": {},
   "outputs": [],
   "source": [
    "A = []\n",
    "for game in tqdm.tqdm([game_id], desc=\"Rating actions\"):\n",
    "    game_actions = (\n",
    "        actions[actions.game_id == game_id]\n",
    "        .merge(players, how=\"left\")\n",
    "        .merge(teams, how=\"left\")\n",
    "        .sort_values([\"game_id\", \"period_id\", \"action_id\"])\n",
    "        .reset_index(drop=True)\n",
    "    )\n",
    "    playersR = playersR.merge(players[[\"player_id\", \"player_name\"]], how=\"left\")\n",
    "    playersR[\"player_name\"] = playersR[[\"player_name\"]].apply(lambda x: x.iloc[0] if x.iloc[0] else x.iloc[1], axis=1)\n",
    "    preds = pd.read_hdf(predictions_h5, f\"game_{game_id}\")\n",
    "    values = vaepformula.value(game_actions, preds.scores, preds.concedes)\n",
    "    A.append(pd.concat([game_actions, preds, values], axis=1))\n",
    "A = pd.concat(A).sort_values([\"game_id\", \"period_id\", \"time_seconds\"]).reset_index(drop=True)\n",
    "A.columns"
   ]
  },
  {
   "cell_type": "code",
   "execution_count": null,
   "metadata": {},
   "outputs": [],
   "source": [
    "A[\"count\"] = 1\n",
    "\n",
    "# Compute each player's number of actions and total VAEP values\n",
    "playersR = (\n",
    "    A[[\"player_id\", \"player_name\", \"vaep_value\", \"offensive_value\", \"defensive_value\", \"count\"]]\n",
    "    .groupby([\"player_id\"])\n",
    "    .agg(\n",
    "        {\n",
    "            \"vaep_value\": \"sum\",\n",
    "            \"offensive_value\": \"sum\",\n",
    "            \"defensive_value\": \"sum\",\n",
    "            \"count\": \"sum\",\n",
    "            \"player_name\": \"first\",\n",
    "        }\n",
    "    )\n",
    "    .reset_index()\n",
    ")\n",
    "# Show results\n",
    "playersR = playersR[[\"player_id\", \"player_name\", \"vaep_value\", \"offensive_value\", \"defensive_value\", \"count\"]]\n",
    "playersR['player_id'] = playersR['player_id'].astype(int)\n",
    "playersR.sort_values(\"vaep_value\", ascending=False)[:10]"
   ]
  },
  {
   "cell_type": "code",
   "execution_count": null,
   "metadata": {},
   "outputs": [],
   "source": [
    "# Normalize for minutes played\n",
    "mp = players[[\"player_id\", \"minutes_played\"]].groupby(\"player_id\").sum().reset_index()\n",
    "\n",
    "stats = playersR.merge(mp)\n",
    "stats = stats[stats.minutes_played > 90 ] # at least one full games played\n",
    "stats[\"vaep_rating\"] = stats.vaep_value * 90 / stats.minutes_played\n",
    "stats[\"offensive_rating\"] = stats.offensive_value * 90 / stats.minutes_played\n",
    "stats[\"defensive_rating\"] = stats.defensive_value * 90 / stats.minutes_played\n",
    "stats.sort_values(\"vaep_rating\",ascending=False)[:10]"
   ]
  },
  {
   "cell_type": "code",
   "execution_count": null,
   "metadata": {},
   "outputs": [],
   "source": [
    "df_games.columns"
   ]
  },
  {
   "cell_type": "code",
   "execution_count": null,
   "metadata": {},
   "outputs": [],
   "source": [
    "df_games['home_team_name'] = df_games['home_team_id'].apply(lambda x: teams[teams['team_id'] == x]['team_name'].values[0])\n",
    "df_games['away_team_name'] = df_games['away_team_id'].apply(lambda x: teams[teams['team_id'] == x]['team_name'].values[0])"
   ]
  },
  {
   "cell_type": "markdown",
   "metadata": {},
   "source": [
    "### (optional) inspect Portugal's top 10 most valuable non-shot actions"
   ]
  },
  {
   "cell_type": "code",
   "execution_count": null,
   "metadata": {},
   "outputs": [],
   "source": [
    "import matplotsoccer\n",
    "\n",
    "sorted_A = A.sort_values(\"vaep_value\", ascending=False)\n",
    "sorted_A = sorted_A[sorted_A.team_name == \"Portugal\"] # view only actions from Belgium\n",
    "sorted_A = sorted_A[~sorted_A.type_name.str.contains(\"shot\")] #eliminate shots\n",
    "\n",
    "def get_time(period_id,time_seconds):\n",
    "    m = int((period_id-1)*45 + time_seconds // 60)\n",
    "    s = int(time_seconds % 60)\n",
    "    return f\"{m}m{s}s\"\n",
    "\n",
    "for j in range(0, 10):\n",
    "    row = list(sorted_A[j:j+1].itertuples())[0]\n",
    "    i = row.Index\n",
    "    a = A[i - 3 : i+2].copy()\n",
    "    \n",
    "    a[\"player_name\"] = a[[\"player_name\"]].apply(lambda x: x.iloc[0] if x.iloc[0] else x.iloc[1], axis=1)\n",
    "    \n",
    "    g = list(df_games[df_games.game_id == a.game_id.values[0]].itertuples())[0]\n",
    "    game_info = f\"{g.game_date} {g.home_team_name} {g.home_score}-{g.away_score} {g.away_team_name}\"\n",
    "    minute = int((row.period_id-1)*45 + row.time_seconds // 60)\n",
    "    print(f\"{game_info} {minute}' {row.type_name} {row.player_name}\")\n",
    "\n",
    "    a[\"scores\"] = a.scores.apply(lambda x : \"%.3f\" % x )\n",
    "    a[\"vaep_value\"] = a.vaep_value.apply(lambda x : \"%.3f\" % x )\n",
    "    a[\"time\"] = a[[\"period_id\", \"time_seconds\"]].apply(lambda x: get_time(*x),axis=1)\n",
    "    cols = [\"time\", \"type_name\", \"player_name\", \"team_name\", \"scores\", \"vaep_value\"]\n",
    "    matplotsoccer.actions(a[[\"start_x\", \"start_y\", \"end_x\",  \"end_y\"]],\n",
    "                a.type_name,\n",
    "                team=a.team_name,\n",
    "                result = a.result_name == \"success\",\n",
    "                label=a[cols],\n",
    "                labeltitle = cols,\n",
    "                zoom=False)"
   ]
  }
 ],
 "metadata": {
  "kernelspec": {
   "display_name": "soccer",
   "language": "python",
   "name": "python3"
  },
  "language_info": {
   "codemirror_mode": {
    "name": "ipython",
    "version": 3
   },
   "file_extension": ".py",
   "mimetype": "text/x-python",
   "name": "python",
   "nbconvert_exporter": "python",
   "pygments_lexer": "ipython3",
   "version": "3.11.4"
  }
 },
 "nbformat": 4,
 "nbformat_minor": 2
}
